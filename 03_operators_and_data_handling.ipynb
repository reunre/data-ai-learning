{
  "nbformat": 4,
  "nbformat_minor": 0,
  "metadata": {
    "colab": {
      "provenance": [],
      "authorship_tag": "ABX9TyMAPGFCMPcJNwpXRFj1Tdg+",
      "include_colab_link": true
    },
    "kernelspec": {
      "name": "python3",
      "display_name": "Python 3"
    },
    "language_info": {
      "name": "python"
    }
  },
  "cells": [
    {
      "cell_type": "markdown",
      "metadata": {
        "id": "view-in-github",
        "colab_type": "text"
      },
      "source": [
        "<a href=\"https://colab.research.google.com/github/reunre/data-ai-learning/blob/main/03_operators_and_data_handling.ipynb\" target=\"_parent\"><img src=\"https://colab.research.google.com/assets/colab-badge.svg\" alt=\"Open In Colab\"/></a>"
      ]
    },
    {
      "cell_type": "markdown",
      "source": [
        "# Module 3 – Operators and Basic Data Handling\n"
      ],
      "metadata": {
        "id": "gK9A2-NLJInI"
      }
    },
    {
      "cell_type": "code",
      "source": [
        "# Step 1: Variable Declaration\n",
        "number = 10\n",
        "name = \"Python\"\n",
        "approval = True"
      ],
      "metadata": {
        "id": "Y1mQTQ6UKCGb"
      },
      "execution_count": 15,
      "outputs": []
    },
    {
      "cell_type": "code",
      "source": [
        "# Step 2: Checking the Type of Variables\n",
        "print(type(number))   # Should show <class 'int'>\n",
        "print(type(name))     # Should show <class 'str'>\n",
        "print(type(approval)) # Should show <class 'bool'>\n"
      ],
      "metadata": {
        "id": "wM8RAfbxJybv",
        "colab": {
          "base_uri": "https://localhost:8080/"
        },
        "outputId": "386e92c0-6df8-4e61-8cef-3b7d6f6f76c0"
      },
      "execution_count": 16,
      "outputs": [
        {
          "output_type": "stream",
          "name": "stdout",
          "text": [
            "<class 'int'>\n",
            "<class 'str'>\n",
            "<class 'bool'>\n"
          ]
        }
      ]
    },
    {
      "cell_type": "code",
      "source": [
        "# Step 3: Type Conversion Examples\n",
        "# Step 3.1: Integer to String\n",
        "a = 10\n",
        "b = str(a)\n",
        "print(b, type(b))  # Output: \"10\" <class 'str'>\n",
        "\n",
        "# Step 3.2: String to Integer\n",
        "c = int(\"25\")\n",
        "print(c, type(c))  # Output: 25 <class 'int'>\n",
        "\n",
        "# Step 3.3: Integer to Float\n",
        "d = float(a)\n",
        "print(d, type(d))  # Output: 10.0 <class 'float'>\n",
        "\n",
        "# Step 3.4: Integer to Boolean\n",
        "e = 0\n",
        "f = 7\n",
        "\n",
        "print(bool(e))   # Output: False\n",
        "print(bool(f))   # Output: True\n",
        "\n"
      ],
      "metadata": {
        "colab": {
          "base_uri": "https://localhost:8080/"
        },
        "id": "amcdTl9oKtI0",
        "outputId": "2b09f772-24a8-4f70-dc2a-fcbc1736c726"
      },
      "execution_count": 17,
      "outputs": [
        {
          "output_type": "stream",
          "name": "stdout",
          "text": [
            "10 <class 'str'>\n",
            "25 <class 'int'>\n",
            "10.0 <class 'float'>\n",
            "False\n",
            "True\n"
          ]
        }
      ]
    },
    {
      "cell_type": "code",
      "source": [
        "#Step 4: Arithmetic Operators\n",
        "#Step 4.1: Addition\n",
        "\n",
        "a=15\n",
        "b=7\n",
        "c=a + b\n",
        "print(c)\n",
        "\n",
        "# Step 4.2: Subtraction\n",
        "d = a - b\n",
        "print(d)  # Output: 8\n",
        "\n",
        "# Step 4.3: Multiplication\n",
        "e = a * b\n",
        "print(e)  # Output: 105\n",
        "\n",
        "# Step 4.4: Division\n",
        "f = a / b\n",
        "print(f)  # Output: 2.142857142857143\n",
        "\n",
        "# Step 4.5: Modulus (Remainder)\n",
        "g = a % b\n",
        "print(g)  # Output: 1\n"
      ],
      "metadata": {
        "colab": {
          "base_uri": "https://localhost:8080/"
        },
        "id": "JbSKvRX1Nf0B",
        "outputId": "c4a1705b-c446-45cf-dad8-373ad6d466cd"
      },
      "execution_count": 19,
      "outputs": [
        {
          "output_type": "stream",
          "name": "stdout",
          "text": [
            "22\n",
            "8\n",
            "105\n",
            "2.142857142857143\n",
            "1\n"
          ]
        }
      ]
    },
    {
      "cell_type": "code",
      "source": [],
      "metadata": {
        "id": "3LyFmHgrOA7F"
      },
      "execution_count": null,
      "outputs": []
    }
  ]
}