{
 "cells": [
  {
   "cell_type": "markdown",
   "id": "b79c9bd6",
   "metadata": {},
   "source": [
    "# 1. Gün | Python'a Giriş\n",
    "Bu dosya, BTK Python eğitimine paralel olarak hazırlanmıştır."
   ]
  },
  {
   "cell_type": "code",
   "execution_count": null,
   "id": "6c79deec",
   "metadata": {},
   "outputs": [],
   "source": [
    "print(\"Merhaba, 1. gün çalışmam başladı!\")"
   ]
  },
  {
   "cell_type": "markdown",
   "id": "4cfa944e",
   "metadata": {},
   "source": [
    "## Değişken Tanımlama"
   ]
  },
  {
   "cell_type": "code",
   "execution_count": null,
   "id": "be51b939",
   "metadata": {},
   "outputs": [],
   "source": [
    "sayi = 10\n",
    "isim = \"Veri Bilimi\"\n",
    "print(sayi, isim)"
   ]
  },
  {
   "cell_type": "markdown",
   "id": "a54a0d19",
   "metadata": {},
   "source": [
    "## Liste ve Döngü Örneği"
   ]
  },
  {
   "cell_type": "code",
   "execution_count": null,
   "id": "913545a2",
   "metadata": {},
   "outputs": [],
   "source": [
    "liste = [\"Python\", \"SQL\", \"ML\"]\n",
    "for eleman in liste:\n",
    "    print(\"Öğrenilecek:\", eleman)"
   ]
  },
  {
   "cell_type": "markdown",
   "id": "a77a6cb1",
   "metadata": {},
   "source": [
    "## Fonksiyon Tanımlama"
   ]
  },
  {
   "cell_type": "code",
   "execution_count": null,
   "id": "d38a2d83",
   "metadata": {},
   "outputs": [],
   "source": [
    "def topla(a, b):\n",
    "    return a + b\n",
    "\n",
    "print(\"Toplam:\", topla(5, 7))"
   ]
  },
  {
   "cell_type": "markdown",
   "id": "c7d1ab0a",
   "metadata": {},
   "source": [
    "## Not: Bu dosyayı GitHub hesabına yükleyerek ilerlemeni kaydedebilirsin."
   ]
  }
 ],
 "metadata": {},
 "nbformat": 4,
 "nbformat_minor": 5
}
